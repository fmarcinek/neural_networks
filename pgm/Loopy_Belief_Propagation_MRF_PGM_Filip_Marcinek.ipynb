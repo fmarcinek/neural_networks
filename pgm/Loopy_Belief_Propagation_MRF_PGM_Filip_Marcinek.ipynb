{
  "nbformat": 4,
  "nbformat_minor": 0,
  "metadata": {
    "colab": {
      "name": "Loopy_Belief_Propagation_MRF_PGM_Filip_Marcinek.ipynb",
      "version": "0.3.2",
      "provenance": [],
      "collapsed_sections": []
    },
    "kernelspec": {
      "name": "python3",
      "display_name": "Python 3"
    }
  },
  "cells": [
    {
      "cell_type": "code",
      "metadata": {
        "id": "9tA9dOacyHuj",
        "colab_type": "code",
        "colab": {}
      },
      "source": [
        "# message passing algorithm inspired by tutorial: http://nghiaho.com/?page_id=1366&fbclid=IwAR0NdLqvHdjwbJ4NxARG1w3vABrofXgijNtq3PUNsPPI0QPjGyBS7V16Nws#implementation\n",
        "# you have every rights for using this code how you want :)\n",
        "\n",
        "import numpy as np\n",
        "import matplotlib.pyplot as plt\n",
        "import seaborn as sns\n",
        "from PIL import Image\n",
        "%matplotlib inline"
      ],
      "execution_count": 0,
      "outputs": []
    },
    {
      "cell_type": "code",
      "metadata": {
        "id": "4t-MCgavydDy",
        "colab_type": "code",
        "colab": {}
      },
      "source": [
        "#fetching images (e.g. tsukuba images pair)\n",
        "from google.colab import files\n",
        "# files.upload()\n",
        "# files.upload()"
      ],
      "execution_count": 0,
      "outputs": []
    },
    {
      "cell_type": "code",
      "metadata": {
        "id": "GIddGEzPyw4O",
        "colab_type": "code",
        "colab": {}
      },
      "source": [
        "imgL = np.array(Image.open('tsukuba-imL.png').convert('L'), dtype=np.int16)\n",
        "imgR = np.array(Image.open('tsukuba-imR.png').convert('L'), dtype=np.int16)"
      ],
      "execution_count": 0,
      "outputs": []
    },
    {
      "cell_type": "code",
      "metadata": {
        "id": "zsExUjOky32t",
        "colab_type": "code",
        "outputId": "74f2b443-36a4-4950-feaf-b7b866da8d03",
        "colab": {
          "base_uri": "https://localhost:8080/",
          "height": 35
        }
      },
      "source": [
        "height,width = imgL.shape\n",
        "height,width"
      ],
      "execution_count": 159,
      "outputs": [
        {
          "output_type": "execute_result",
          "data": {
            "text/plain": [
              "(288, 384)"
            ]
          },
          "metadata": {
            "tags": []
          },
          "execution_count": 159
        }
      ]
    },
    {
      "cell_type": "code",
      "metadata": {
        "id": "rtuPGvrdXIES",
        "colab_type": "code",
        "colab": {}
      },
      "source": [
        "labels = 16"
      ],
      "execution_count": 0,
      "outputs": []
    },
    {
      "cell_type": "code",
      "metadata": {
        "id": "TjKJhrDszRKF",
        "colab_type": "code",
        "colab": {}
      },
      "source": [
        "# smoothnessCost enforces smooth labeling across adjacent hidden nodes. Function penalizes adjacent labels which are different.\n",
        "def smoothnessCost(i,j,lmbd=20,K=2):\n",
        "    return lmbd * np.minimum((i-j)**2,K)"
      ],
      "execution_count": 0,
      "outputs": []
    },
    {
      "cell_type": "code",
      "metadata": {
        "id": "_2HNceOBfc2o",
        "colab_type": "code",
        "colab": {}
      },
      "source": [
        "smoothness_matrix = np.fromfunction(smoothnessCost,(labels,labels),dtype=float)"
      ],
      "execution_count": 0,
      "outputs": []
    },
    {
      "cell_type": "code",
      "metadata": {
        "id": "J6QSW-xIbiR1",
        "colab_type": "code",
        "colab": {}
      },
      "source": [
        "# dataCost returns the cost of assigning label value  of xi to data yi, so we want low cost for good matches and high otherwise.\n",
        "def dataCost(lab,rad=2):\n",
        "    strd = np.lib.stride_tricks.as_strided\n",
        "    brd_slice = slice(labels-rad,-labels+rad)\n",
        "    sub_shape = (rad*2+1,rad*2+1)\n",
        "    imgleft = imgL[brd_slice,brd_slice]\n",
        "    imgright = imgR[brd_slice,labels-rad-lab+1:-labels+rad-lab+1]\n",
        "    view_shape = tuple(np.subtract(imgleft.shape, sub_shape) + 1) + sub_shape\n",
        "    sub_imgL = strd(imgleft,view_shape,imgleft.strides*2)\n",
        "    sub_imgR = strd(imgright,view_shape,imgR.strides*2)\n",
        "    return np.sum(np.abs(sub_imgL-sub_imgR), axis=(2,3)) / (rad*2+1)**2"
      ],
      "execution_count": 0,
      "outputs": []
    },
    {
      "cell_type": "code",
      "metadata": {
        "id": "FUTzUATiqAE7",
        "colab_type": "code",
        "colab": {}
      },
      "source": [
        "dircts = dict(zip(['right','left','up','down','base'], range(5)))"
      ],
      "execution_count": 0,
      "outputs": []
    },
    {
      "cell_type": "code",
      "metadata": {
        "id": "EkqMkprAC5xW",
        "colab_type": "code",
        "colab": {}
      },
      "source": [
        "def createMRF(height,width,init_val=0):\n",
        "    return np.full((height,width,5,labels),fill_value=init_val,dtype=float)"
      ],
      "execution_count": 0,
      "outputs": []
    },
    {
      "cell_type": "code",
      "metadata": {
        "id": "su0fRUfnHU0V",
        "colab_type": "code",
        "colab": {}
      },
      "source": [
        "def makeBorder(mrf):\n",
        "    brd_slice = slice(labels,-labels)\n",
        "    for i in range(labels):\n",
        "        mrf[brd_slice,brd_slice,dircts['base'], i] = dataCost(i)"
      ],
      "execution_count": 0,
      "outputs": []
    },
    {
      "cell_type": "code",
      "metadata": {
        "id": "FJ-h1ybGyL0B",
        "colab_type": "code",
        "colab": {}
      },
      "source": [
        "opposite = {'right':dircts['left'],'left':dircts['right'],'up':dircts['down'],'down':dircts['up']}\n",
        "def dir_coord(x,y,direct):\n",
        "    if direct == 'up':\n",
        "        return x,y-1\n",
        "    elif direct == 'down':\n",
        "        return x,y+1\n",
        "    elif direct == 'left':\n",
        "        return x-1,y\n",
        "    else:\n",
        "        return x+1,y"
      ],
      "execution_count": 0,
      "outputs": []
    },
    {
      "cell_type": "code",
      "metadata": {
        "id": "wkTy9lkPLq1h",
        "colab_type": "code",
        "colab": {}
      },
      "source": [
        "def send_msg(mrf,x,y,direct):\n",
        "    dir_slice = np.array([dircts[k] for k in (set(dircts.keys()) - {direct})],dtype=int)\n",
        "    res = smoothness_matrix + mrf[y,x,dir_slice,:].sum(0)\n",
        "    min_vals = np.minimum(res.min(axis=1),4294967295)\n",
        "    xi,yi = dir_coord(x,y,direct)\n",
        "    opo = opposite[direct]\n",
        "    mrf[yi,xi,opo,:] = min_vals\n",
        "\n",
        "def message_passing(mrf):\n",
        "    for y in range(height):\n",
        "        for x in range(width-1):\n",
        "            send_msg(mrf,x,y,'right')\n",
        "    for y in range(height):\n",
        "        for x in range(width-1,0,-1):\n",
        "            send_msg(mrf,x,y,'left')\n",
        "    for x in range(width):\n",
        "        for y in range(height-1):\n",
        "            send_msg(mrf,x,y,'down')\n",
        "    for x in range(width):\n",
        "        for y in range(height-1,0,-1):\n",
        "            send_msg(mrf,x,y,'up')"
      ],
      "execution_count": 0,
      "outputs": []
    },
    {
      "cell_type": "code",
      "metadata": {
        "id": "12hCkPro-zme",
        "colab_type": "code",
        "colab": {}
      },
      "source": [
        "def calculate_energy(mrf):\n",
        "    best_labels = np.argmin(np.sum(mrf,axis=2),axis=2).reshape(-1)\n",
        "    energy_parts = mrf[:,:,dircts['base'],:].reshape(-1,labels)[range(np.prod(mrf.shape) // (5*16)),best_labels]\n",
        "    print('energy:',np.sum(energy_parts))\n",
        "    \n",
        "def get_depth_map(mrf,save=False):\n",
        "    best_labels = np.argmin(np.sum(mrf,axis=2),axis=2)\n",
        "    res_image = best_labels * (256//labels)\n",
        "    plt.imshow(res_image)\n",
        "    plt.show(block=False)\n",
        "    if save:\n",
        "        plt.imsave('result_depth_map.jpg',res_image)"
      ],
      "execution_count": 0,
      "outputs": []
    },
    {
      "cell_type": "code",
      "metadata": {
        "id": "RQ-6r-YiyWF7",
        "colab_type": "code",
        "colab": {
          "base_uri": "https://localhost:8080/",
          "height": 557
        },
        "outputId": "103697ae-a15b-4b3c-ed98-1995395e014b"
      },
      "source": [
        "# message passing algorithm. Message passing is ONLY performed on hidden nodes.\n",
        "mrf = createMRF(height,width)\n",
        "makeBorder(mrf)\n",
        "get_depth_map(mrf)\n",
        "\n",
        "iterations=2\n",
        "for i in range(iterations):\n",
        "    message_passing(mrf)\n",
        "    print(i+1,' ',end='')\n",
        "    calculate_energy(mrf)\n",
        "get_depth_map(mrf,save=True)\n"
      ],
      "execution_count": 171,
      "outputs": [
        {
          "output_type": "display_data",
          "data": {
            "image/png": "[encoded data removed]",
            "text/plain": [
              "<Figure size 432x288 with 1 Axes>"
            ]
          },
          "metadata": {
            "tags": []
          }
        },
        {
          "output_type": "stream",
          "text": [
            "1  energy: 299590.80000000005\n",
            "2  energy: 298267.64\n"
          ],
          "name": "stdout"
        },
        {
          "output_type": "display_data",
          "data": {
            "image/png": "[encoded data removed]",
            "text/plain": [
              "<Figure size 432x288 with 1 Axes>"
            ]
          },
          "metadata": {
            "tags": []
          }
        }
      ]
    }
  ]
}